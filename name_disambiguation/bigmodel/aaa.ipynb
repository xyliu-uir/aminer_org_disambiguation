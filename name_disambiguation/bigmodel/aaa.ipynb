{
 "cells": [
  {
   "cell_type": "code",
   "execution_count": 22,
   "metadata": {},
   "outputs": [
    {
     "name": "stdout",
     "output_type": "stream",
     "text": [
      "Dr DY Patil Med Coll & Hosp, Dept Dermatol, Pune, Maharashtra, India,提取'一级机构','二级机构','地理位置','城市','国家',并输出JSON格式\n",
      "\n",
      "Natl Res Univ, Moscow Power Engn Inst, Krasnokazarmennaya 14, Moscow 111250, Russia,提取'一级机构','二级机构','地理位置','城市','国家',并输出JSON格式\n",
      "\n",
      "Vrije Univ Amsterdam Med Ctr, Dept Ophthalmol, Amsterdam, Netherlands,提取'一级机构','二级机构','地理位置','城市','国家',并输出JSON格式\n",
      "\n"
     ]
    }
   ],
   "source": [
    "list = [\"Dr DY Patil Med Coll & Hosp, Dept Dermatol, Pune, Maharashtra, India\",\n",
    "                    \"Natl Res Univ, Moscow Power Engn Inst, Krasnokazarmennaya 14, Moscow 111250, Russia\",\n",
    "                    \"Vrije Univ Amsterdam Med Ctr, Dept Ophthalmol, Amsterdam, Netherlands\"]\n",
    "p = \",提取'一级机构','二级机构','地理位置','城市','国家',并输出JSON格式\"\n",
    "for i in range(len(list)):\n",
    "    prompt = list[i]\n",
    "    o = prompt + p\n",
    "    print(o)\n",
    "    print()"
   ]
  },
  {
   "cell_type": "code",
   "execution_count": 15,
   "metadata": {},
   "outputs": [
    {
     "data": {
      "text/plain": [
       "{'code': 200,\n",
       " 'msg': '操作成功',\n",
       " 'data': {'prompt': '问题：冬天，中国哪座城市最适合避寒？问题描述：能推荐一些国内适合冬天避寒的城市吗？回答用户：旅游爱好者 回答：',\n",
       "  'promptDesc': None,\n",
       "  'outputText': None,\n",
       "  'inputTokenNum': None,\n",
       "  'outputTokenNum': None,\n",
       "  'totalTokenNum': None,\n",
       "  'taskOrderNo': '1738977438290960434997844',\n",
       "  'taskStatus': 'PROCESSING',\n",
       "  'requestTaskNo': '15859080426360709122'},\n",
       " 'success': True}"
      ]
     },
     "execution_count": 15,
     "metadata": {},
     "output_type": "execute_result"
    }
   ],
   "source": [
    "resp"
   ]
  }
 ],
 "metadata": {
  "kernelspec": {
   "display_name": "Python 3 (ipykernel)",
   "language": "python",
   "name": "python3"
  },
  "language_info": {
   "codemirror_mode": {
    "name": "ipython",
    "version": 3
   },
   "file_extension": ".py",
   "mimetype": "text/x-python",
   "name": "python",
   "nbconvert_exporter": "python",
   "pygments_lexer": "ipython3",
   "version": "3.7.16"
  },
  "orig_nbformat": 4
 },
 "nbformat": 4,
 "nbformat_minor": 2
}
